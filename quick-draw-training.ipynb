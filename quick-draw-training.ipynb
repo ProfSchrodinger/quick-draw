{
 "cells": [
  {
   "cell_type": "code",
   "execution_count": 1,
   "id": "66c97e24-e87e-4979-bbea-cac1ea7f2ffd",
   "metadata": {},
   "outputs": [],
   "source": [
    "import os\n",
    "import re\n",
    "import json\n",
    "import random\n",
    "import urllib.request\n",
    "import numpy as np\n",
    "import matplotlib.pyplot as plt\n",
    "\n",
    "from pathlib import Path\n",
    "from tqdm import tqdm\n",
    "from sklearn.model_selection import train_test_split\n",
    "from sklearn.metrics import confusion_matrix, ConfusionMatrixDisplay"
   ]
  },
  {
   "cell_type": "code",
   "execution_count": 2,
   "id": "c4c7a93c-4271-46a9-b6e4-5246e91c0e28",
   "metadata": {},
   "outputs": [],
   "source": [
    "import tensorflow as tf\n",
    "from tensorflow.keras import layers, models\n",
    "from tensorflow.keras.callbacks import EarlyStopping, ReduceLROnPlateau"
   ]
  },
  {
   "cell_type": "code",
   "execution_count": 3,
   "id": "9c9b72bb-4274-46e2-a0e2-3bb118eacfb0",
   "metadata": {},
   "outputs": [],
   "source": [
    "random.seed(42)\n",
    "np.random.seed(42)\n",
    "tf.random.set_seed(42)"
   ]
  },
  {
   "cell_type": "code",
   "execution_count": 4,
   "id": "44d67083-b4f5-415a-83dc-3f8e95e27531",
   "metadata": {},
   "outputs": [],
   "source": [
    "DATA_DIR = Path(\"data\")\n",
    "RAW_DIR = DATA_DIR / \"raw\"\n",
    "MODEL_DIR = Path(\"models\")"
   ]
  },
  {
   "cell_type": "code",
   "execution_count": 5,
   "id": "a13ace0a-291d-422c-96f0-3f6f8c8d63fc",
   "metadata": {},
   "outputs": [],
   "source": [
    "NUM_CLASSES = 50\n",
    "MAX_SAMPLES_PER_CLASS = 60000\n",
    "BATCH_SIZE = 512\n",
    "EPOCHS = 20"
   ]
  },
  {
   "cell_type": "code",
   "execution_count": 6,
   "id": "029a4f45-158d-4182-8e91-af19981b27f2",
   "metadata": {},
   "outputs": [],
   "source": [
    "def ensure_dirs_exist():\n",
    "    DATA_DIR.mkdir(exist_ok=True)\n",
    "    RAW_DIR.mkdir(exist_ok=True, parents=True)\n",
    "    MODEL_DIR.mkdir(exist_ok=True)"
   ]
  },
  {
   "cell_type": "code",
   "execution_count": 7,
   "id": "7aae1772-9df4-4ae9-86ab-e7848c93ab8b",
   "metadata": {},
   "outputs": [],
   "source": [
    "ensure_dirs_exist()"
   ]
  },
  {
   "cell_type": "code",
   "execution_count": 8,
   "id": "4f643c92-ad71-4625-8eb5-8b12b766de59",
   "metadata": {},
   "outputs": [],
   "source": [
    "def get_all_class_names():\n",
    "    path = DATA_DIR / 'all_classes.txt'\n",
    "    \n",
    "    with path.open('r', encoding='utf-8') as f:\n",
    "        text = f.read()\n",
    "    \n",
    "    classes = re.findall(r'\"([^\"]+)\"', text)\n",
    "    \n",
    "    print(f\"Found {len(classes)} classes.\")\n",
    "    return classes"
   ]
  },
  {
   "cell_type": "code",
   "execution_count": 9,
   "id": "48c4084b-5914-4356-8096-db91ac1960fb",
   "metadata": {},
   "outputs": [],
   "source": [
    "def select_random_classes(num_classes=NUM_CLASSES):\n",
    "    all_classes = get_all_class_names()\n",
    "    random.seed(7)\n",
    "    selected_classes = random.sample(all_classes, num_classes)\n",
    "\n",
    "    with open(DATA_DIR / \"selected_classes.json\", \"w\") as f:\n",
    "        json.dump(selected_classes, f)\n",
    "    \n",
    "    print(f\"Selected {num_classes} random classes:\")\n",
    "    for i, cls in enumerate(selected_classes[:10]):\n",
    "        print(f\"  {i+1}. {cls}\")\n",
    "    if num_classes > 10:\n",
    "        print(f\"  ... and {num_classes-10} more\")\n",
    "    \n",
    "    return selected_classes"
   ]
  },
  {
   "cell_type": "code",
   "execution_count": 10,
   "id": "48cb0946-eaef-4aeb-bd43-f7a2ed7e7cd3",
   "metadata": {},
   "outputs": [
    {
     "name": "stdout",
     "output_type": "stream",
     "text": [
      "Found 345 classes.\n",
      "Selected 50 random classes:\n",
      "  1. lantern\n",
      "  2. computer\n",
      "  3. onion\n",
      "  4. washing machine\n",
      "  5. beard\n",
      "  6. bottlecap\n",
      "  7. sock\n",
      "  8. bush\n",
      "  9. moon\n",
      "  10. swing set\n",
      "  ... and 40 more\n"
     ]
    }
   ],
   "source": [
    "selected_classes = select_random_classes(NUM_CLASSES)"
   ]
  },
  {
   "cell_type": "code",
   "execution_count": 11,
   "id": "c7100015-3ea9-41f1-875d-1f7b4691ed5a",
   "metadata": {},
   "outputs": [],
   "source": [
    "def download_class_np(class_name):\n",
    "    url_name = class_name.replace(\" \", \"%20\")\n",
    "    url = f\"https://storage.googleapis.com/quickdraw_dataset/full/numpy_bitmap/{url_name}.npy\"\n",
    "    local_file = RAW_DIR / f\"{class_name}.npy\"\n",
    "    \n",
    "    if not local_file.exists():\n",
    "        print(f\"Downloading {class_name}...\")\n",
    "        try:\n",
    "            urllib.request.urlretrieve(url, local_file)\n",
    "            print(f\"Successfully downloaded {class_name}\")\n",
    "        except Exception as e:\n",
    "            print(f\"Error downloading {class_name}\")\n",
    "    else:\n",
    "        print(f\"File for {class_name} already exists, skipping download\")\n",
    "    \n",
    "    return local_file"
   ]
  },
  {
   "cell_type": "code",
   "execution_count": 12,
   "id": "3e0b5b14-92ec-4e6f-8ca0-3a023295d2b3",
   "metadata": {},
   "outputs": [],
   "source": [
    "def download_dataset(class_names):\n",
    "    print(f\"\\nDownloading {len(class_names)} class files...\")\n",
    "    downloaded_files = []\n",
    "    \n",
    "    for class_name in tqdm(class_names, desc=\"Downloading\"):\n",
    "        file_path = download_class_np(class_name)\n",
    "        if file_path:\n",
    "            downloaded_files.append(file_path)\n",
    "    \n",
    "    print(f\"Downloaded {len(downloaded_files)} class files\")\n",
    "    return downloaded_files"
   ]
  },
  {
   "cell_type": "code",
   "execution_count": 13,
   "id": "d39177d3-b7c2-4b66-a581-e46f752732ce",
   "metadata": {
    "scrolled": true
   },
   "outputs": [
    {
     "name": "stdout",
     "output_type": "stream",
     "text": [
      "\n",
      "Downloading 50 class files...\n"
     ]
    },
    {
     "name": "stderr",
     "output_type": "stream",
     "text": [
      "Downloading: 100%|███████████████████████████| 50/50 [00:00<00:00, 22300.64it/s]"
     ]
    },
    {
     "name": "stdout",
     "output_type": "stream",
     "text": [
      "File for lantern already exists, skipping download\n",
      "File for computer already exists, skipping download\n",
      "File for onion already exists, skipping download\n",
      "File for washing machine already exists, skipping download\n",
      "File for beard already exists, skipping download\n",
      "File for bottlecap already exists, skipping download\n",
      "File for sock already exists, skipping download\n",
      "File for bush already exists, skipping download\n",
      "File for moon already exists, skipping download\n",
      "File for swing set already exists, skipping download\n",
      "File for bicycle already exists, skipping download\n",
      "File for shoe already exists, skipping download\n",
      "File for fan already exists, skipping download\n",
      "File for basketball already exists, skipping download\n",
      "File for broom already exists, skipping download\n",
      "File for pig already exists, skipping download\n",
      "File for peanut already exists, skipping download\n",
      "File for book already exists, skipping download\n",
      "File for foot already exists, skipping download\n",
      "File for bulldozer already exists, skipping download\n",
      "File for stairs already exists, skipping download\n",
      "File for pencil already exists, skipping download\n",
      "File for binoculars already exists, skipping download\n",
      "File for stove already exists, skipping download\n",
      "File for castle already exists, skipping download\n",
      "File for fireplace already exists, skipping download\n",
      "File for tree already exists, skipping download\n",
      "File for train already exists, skipping download\n",
      "File for bird already exists, skipping download\n",
      "File for sun already exists, skipping download\n",
      "File for sword already exists, skipping download\n",
      "File for oven already exists, skipping download\n",
      "File for bed already exists, skipping download\n",
      "File for fire hydrant already exists, skipping download\n",
      "File for bear already exists, skipping download\n",
      "File for stereo already exists, skipping download\n",
      "File for chair already exists, skipping download\n",
      "File for hospital already exists, skipping download\n",
      "File for clock already exists, skipping download\n",
      "File for spider already exists, skipping download\n",
      "File for canoe already exists, skipping download\n",
      "File for string bean already exists, skipping download\n",
      "File for jacket already exists, skipping download\n",
      "File for stethoscope already exists, skipping download\n",
      "File for dolphin already exists, skipping download\n",
      "File for calculator already exists, skipping download\n",
      "File for sweater already exists, skipping download\n",
      "File for t-shirt already exists, skipping download\n",
      "File for dresser already exists, skipping download\n",
      "File for mountain already exists, skipping download\n",
      "Downloaded 50 class files\n"
     ]
    },
    {
     "name": "stderr",
     "output_type": "stream",
     "text": [
      "\n"
     ]
    },
    {
     "data": {
      "text/plain": [
       "[PosixPath('data/raw/lantern.npy'),\n",
       " PosixPath('data/raw/computer.npy'),\n",
       " PosixPath('data/raw/onion.npy'),\n",
       " PosixPath('data/raw/washing machine.npy'),\n",
       " PosixPath('data/raw/beard.npy'),\n",
       " PosixPath('data/raw/bottlecap.npy'),\n",
       " PosixPath('data/raw/sock.npy'),\n",
       " PosixPath('data/raw/bush.npy'),\n",
       " PosixPath('data/raw/moon.npy'),\n",
       " PosixPath('data/raw/swing set.npy'),\n",
       " PosixPath('data/raw/bicycle.npy'),\n",
       " PosixPath('data/raw/shoe.npy'),\n",
       " PosixPath('data/raw/fan.npy'),\n",
       " PosixPath('data/raw/basketball.npy'),\n",
       " PosixPath('data/raw/broom.npy'),\n",
       " PosixPath('data/raw/pig.npy'),\n",
       " PosixPath('data/raw/peanut.npy'),\n",
       " PosixPath('data/raw/book.npy'),\n",
       " PosixPath('data/raw/foot.npy'),\n",
       " PosixPath('data/raw/bulldozer.npy'),\n",
       " PosixPath('data/raw/stairs.npy'),\n",
       " PosixPath('data/raw/pencil.npy'),\n",
       " PosixPath('data/raw/binoculars.npy'),\n",
       " PosixPath('data/raw/stove.npy'),\n",
       " PosixPath('data/raw/castle.npy'),\n",
       " PosixPath('data/raw/fireplace.npy'),\n",
       " PosixPath('data/raw/tree.npy'),\n",
       " PosixPath('data/raw/train.npy'),\n",
       " PosixPath('data/raw/bird.npy'),\n",
       " PosixPath('data/raw/sun.npy'),\n",
       " PosixPath('data/raw/sword.npy'),\n",
       " PosixPath('data/raw/oven.npy'),\n",
       " PosixPath('data/raw/bed.npy'),\n",
       " PosixPath('data/raw/fire hydrant.npy'),\n",
       " PosixPath('data/raw/bear.npy'),\n",
       " PosixPath('data/raw/stereo.npy'),\n",
       " PosixPath('data/raw/chair.npy'),\n",
       " PosixPath('data/raw/hospital.npy'),\n",
       " PosixPath('data/raw/clock.npy'),\n",
       " PosixPath('data/raw/spider.npy'),\n",
       " PosixPath('data/raw/canoe.npy'),\n",
       " PosixPath('data/raw/string bean.npy'),\n",
       " PosixPath('data/raw/jacket.npy'),\n",
       " PosixPath('data/raw/stethoscope.npy'),\n",
       " PosixPath('data/raw/dolphin.npy'),\n",
       " PosixPath('data/raw/calculator.npy'),\n",
       " PosixPath('data/raw/sweater.npy'),\n",
       " PosixPath('data/raw/t-shirt.npy'),\n",
       " PosixPath('data/raw/dresser.npy'),\n",
       " PosixPath('data/raw/mountain.npy')]"
      ]
     },
     "execution_count": 13,
     "metadata": {},
     "output_type": "execute_result"
    }
   ],
   "source": [
    "download_dataset(selected_classes)"
   ]
  },
  {
   "cell_type": "code",
   "execution_count": 14,
   "id": "391431eb-564e-4cd2-9e4a-f808b8cfe436",
   "metadata": {},
   "outputs": [],
   "source": [
    "def load_and_preprocess_data(class_names):\n",
    "    print(\"\\nLoading and preprocessing data...\")\n",
    "    X, y = [], []\n",
    "    \n",
    "    for idx, class_name in enumerate(tqdm(class_names, desc=\"Loading\")):\n",
    "        try:\n",
    "            file_path = RAW_DIR / f\"{class_name}.npy\"\n",
    "            class_data = np.load(file_path)\n",
    "            \n",
    "            if len(class_data) > MAX_SAMPLES_PER_CLASS:\n",
    "                indices = np.random.choice(len(class_data), MAX_SAMPLES_PER_CLASS, replace=False)\n",
    "                class_data = class_data[indices]\n",
    "            \n",
    "            class_data = class_data.astype(\"float32\") / 255.0\n",
    "\n",
    "            X.append(class_data)\n",
    "            y.append(np.full(len(class_data), idx, dtype=\"int32\"))\n",
    "            \n",
    "        except Exception as e:\n",
    "            print(f\"Error loading {class_name}: {e}\")\n",
    "    \n",
    "    X = np.concatenate(X)\n",
    "    y = np.concatenate(y)\n",
    "    \n",
    "    print(f\"Total samples: {X.shape[0]}\")\n",
    "\n",
    "    X_train, X_temp, y_train, y_temp = train_test_split(\n",
    "        X, y, test_size=0.2, stratify=y, random_state=42)\n",
    "    \n",
    "    X_val, X_test, y_val, y_test = train_test_split(\n",
    "        X_temp, y_temp, test_size=0.5, stratify=y_temp, random_state=42)\n",
    "    \n",
    "    X_train = X_train.reshape(-1, 28, 28, 1)\n",
    "    X_val = X_val.reshape(-1, 28, 28, 1)\n",
    "    X_test = X_test.reshape(-1, 28, 28, 1)\n",
    "    \n",
    "    print(f\"Train set: {X_train.shape[0]} samples\")\n",
    "    print(f\"Validation set: {X_val.shape[0]} samples\")\n",
    "    print(f\"Test set: {X_test.shape[0]} samples\")\n",
    "    \n",
    "    return X_train, X_val, X_test, y_train, y_val, y_test"
   ]
  },
  {
   "cell_type": "code",
   "execution_count": 15,
   "id": "6e71524b-cf0d-4070-8815-3f5629bc9fc8",
   "metadata": {},
   "outputs": [
    {
     "name": "stdout",
     "output_type": "stream",
     "text": [
      "\n",
      "Loading and preprocessing data...\n"
     ]
    },
    {
     "name": "stderr",
     "output_type": "stream",
     "text": [
      "Loading: 100%|██████████████████████████████████| 50/50 [00:07<00:00,  6.64it/s]\n"
     ]
    },
    {
     "name": "stdout",
     "output_type": "stream",
     "text": [
      "Total samples: 3000000\n",
      "Train set: 2400000 samples\n",
      "Validation set: 300000 samples\n",
      "Test set: 300000 samples\n"
     ]
    }
   ],
   "source": [
    "X_train, X_val, X_test, y_train, y_val, y_test = load_and_preprocess_data(selected_classes)"
   ]
  },
  {
   "cell_type": "code",
   "execution_count": 20,
   "id": "7f876967-69e4-4667-9d67-e69ace301b55",
   "metadata": {},
   "outputs": [],
   "source": [
    "def build_model(num_classes=NUM_CLASSES):\n",
    "    model = models.Sequential([\n",
    "        # First convolutional block\n",
    "        layers.Conv2D(32, (3, 3), activation='relu', input_shape=(28, 28, 1)),\n",
    "        layers.BatchNormalization(),\n",
    "        layers.Conv2D(32, (3, 3), activation='relu'),\n",
    "        layers.MaxPooling2D(2, 2),\n",
    "        layers.Dropout(0.25),\n",
    "        \n",
    "        # Second convolutional block\n",
    "        layers.Conv2D(64, (3, 3), activation='relu'),\n",
    "        layers.BatchNormalization(),\n",
    "        layers.Conv2D(64, (3, 3), activation='relu'),\n",
    "        layers.MaxPooling2D(2, 2),\n",
    "        layers.Dropout(0.25),\n",
    "        \n",
    "        # Fully connected layers\n",
    "        layers.Flatten(),\n",
    "        layers.Dense(256, activation='relu'),\n",
    "        layers.BatchNormalization(),\n",
    "        layers.Dropout(0.5),\n",
    "        layers.Dense(num_classes, activation='softmax')\n",
    "    ])\n",
    "    \n",
    "    # Compile the model\n",
    "    model.compile(\n",
    "        optimizer='adam',\n",
    "        loss='sparse_categorical_crossentropy',\n",
    "        metrics=['accuracy']\n",
    "    )\n",
    "    \n",
    "    return model"
   ]
  },
  {
   "cell_type": "code",
   "execution_count": 21,
   "id": "0bd2432b-1274-49a1-aa81-85259182bae8",
   "metadata": {},
   "outputs": [
    {
     "data": {
      "text/html": [
       "<pre style=\"white-space:pre;overflow-x:auto;line-height:normal;font-family:Menlo,'DejaVu Sans Mono',consolas,'Courier New',monospace\"><span style=\"font-weight: bold\">Model: \"sequential_1\"</span>\n",
       "</pre>\n"
      ],
      "text/plain": [
       "\u001b[1mModel: \"sequential_1\"\u001b[0m\n"
      ]
     },
     "metadata": {},
     "output_type": "display_data"
    },
    {
     "data": {
      "text/html": [
       "<pre style=\"white-space:pre;overflow-x:auto;line-height:normal;font-family:Menlo,'DejaVu Sans Mono',consolas,'Courier New',monospace\">┏━━━━━━━━━━━━━━━━━━━━━━━━━━━━━━━━━┳━━━━━━━━━━━━━━━━━━━━━━━━┳━━━━━━━━━━━━━━━┓\n",
       "┃<span style=\"font-weight: bold\"> Layer (type)                    </span>┃<span style=\"font-weight: bold\"> Output Shape           </span>┃<span style=\"font-weight: bold\">       Param # </span>┃\n",
       "┡━━━━━━━━━━━━━━━━━━━━━━━━━━━━━━━━━╇━━━━━━━━━━━━━━━━━━━━━━━━╇━━━━━━━━━━━━━━━┩\n",
       "│ conv2d_6 (<span style=\"color: #0087ff; text-decoration-color: #0087ff\">Conv2D</span>)               │ (<span style=\"color: #00d7ff; text-decoration-color: #00d7ff\">None</span>, <span style=\"color: #00af00; text-decoration-color: #00af00\">26</span>, <span style=\"color: #00af00; text-decoration-color: #00af00\">26</span>, <span style=\"color: #00af00; text-decoration-color: #00af00\">32</span>)     │           <span style=\"color: #00af00; text-decoration-color: #00af00\">320</span> │\n",
       "├─────────────────────────────────┼────────────────────────┼───────────────┤\n",
       "│ batch_normalization_4           │ (<span style=\"color: #00d7ff; text-decoration-color: #00d7ff\">None</span>, <span style=\"color: #00af00; text-decoration-color: #00af00\">26</span>, <span style=\"color: #00af00; text-decoration-color: #00af00\">26</span>, <span style=\"color: #00af00; text-decoration-color: #00af00\">32</span>)     │           <span style=\"color: #00af00; text-decoration-color: #00af00\">128</span> │\n",
       "│ (<span style=\"color: #0087ff; text-decoration-color: #0087ff\">BatchNormalization</span>)            │                        │               │\n",
       "├─────────────────────────────────┼────────────────────────┼───────────────┤\n",
       "│ conv2d_7 (<span style=\"color: #0087ff; text-decoration-color: #0087ff\">Conv2D</span>)               │ (<span style=\"color: #00d7ff; text-decoration-color: #00d7ff\">None</span>, <span style=\"color: #00af00; text-decoration-color: #00af00\">24</span>, <span style=\"color: #00af00; text-decoration-color: #00af00\">24</span>, <span style=\"color: #00af00; text-decoration-color: #00af00\">32</span>)     │         <span style=\"color: #00af00; text-decoration-color: #00af00\">9,248</span> │\n",
       "├─────────────────────────────────┼────────────────────────┼───────────────┤\n",
       "│ max_pooling2d_3 (<span style=\"color: #0087ff; text-decoration-color: #0087ff\">MaxPooling2D</span>)  │ (<span style=\"color: #00d7ff; text-decoration-color: #00d7ff\">None</span>, <span style=\"color: #00af00; text-decoration-color: #00af00\">12</span>, <span style=\"color: #00af00; text-decoration-color: #00af00\">12</span>, <span style=\"color: #00af00; text-decoration-color: #00af00\">32</span>)     │             <span style=\"color: #00af00; text-decoration-color: #00af00\">0</span> │\n",
       "├─────────────────────────────────┼────────────────────────┼───────────────┤\n",
       "│ dropout_4 (<span style=\"color: #0087ff; text-decoration-color: #0087ff\">Dropout</span>)             │ (<span style=\"color: #00d7ff; text-decoration-color: #00d7ff\">None</span>, <span style=\"color: #00af00; text-decoration-color: #00af00\">12</span>, <span style=\"color: #00af00; text-decoration-color: #00af00\">12</span>, <span style=\"color: #00af00; text-decoration-color: #00af00\">32</span>)     │             <span style=\"color: #00af00; text-decoration-color: #00af00\">0</span> │\n",
       "├─────────────────────────────────┼────────────────────────┼───────────────┤\n",
       "│ conv2d_8 (<span style=\"color: #0087ff; text-decoration-color: #0087ff\">Conv2D</span>)               │ (<span style=\"color: #00d7ff; text-decoration-color: #00d7ff\">None</span>, <span style=\"color: #00af00; text-decoration-color: #00af00\">10</span>, <span style=\"color: #00af00; text-decoration-color: #00af00\">10</span>, <span style=\"color: #00af00; text-decoration-color: #00af00\">64</span>)     │        <span style=\"color: #00af00; text-decoration-color: #00af00\">18,496</span> │\n",
       "├─────────────────────────────────┼────────────────────────┼───────────────┤\n",
       "│ batch_normalization_5           │ (<span style=\"color: #00d7ff; text-decoration-color: #00d7ff\">None</span>, <span style=\"color: #00af00; text-decoration-color: #00af00\">10</span>, <span style=\"color: #00af00; text-decoration-color: #00af00\">10</span>, <span style=\"color: #00af00; text-decoration-color: #00af00\">64</span>)     │           <span style=\"color: #00af00; text-decoration-color: #00af00\">256</span> │\n",
       "│ (<span style=\"color: #0087ff; text-decoration-color: #0087ff\">BatchNormalization</span>)            │                        │               │\n",
       "├─────────────────────────────────┼────────────────────────┼───────────────┤\n",
       "│ conv2d_9 (<span style=\"color: #0087ff; text-decoration-color: #0087ff\">Conv2D</span>)               │ (<span style=\"color: #00d7ff; text-decoration-color: #00d7ff\">None</span>, <span style=\"color: #00af00; text-decoration-color: #00af00\">8</span>, <span style=\"color: #00af00; text-decoration-color: #00af00\">8</span>, <span style=\"color: #00af00; text-decoration-color: #00af00\">64</span>)       │        <span style=\"color: #00af00; text-decoration-color: #00af00\">36,928</span> │\n",
       "├─────────────────────────────────┼────────────────────────┼───────────────┤\n",
       "│ max_pooling2d_4 (<span style=\"color: #0087ff; text-decoration-color: #0087ff\">MaxPooling2D</span>)  │ (<span style=\"color: #00d7ff; text-decoration-color: #00d7ff\">None</span>, <span style=\"color: #00af00; text-decoration-color: #00af00\">4</span>, <span style=\"color: #00af00; text-decoration-color: #00af00\">4</span>, <span style=\"color: #00af00; text-decoration-color: #00af00\">64</span>)       │             <span style=\"color: #00af00; text-decoration-color: #00af00\">0</span> │\n",
       "├─────────────────────────────────┼────────────────────────┼───────────────┤\n",
       "│ dropout_5 (<span style=\"color: #0087ff; text-decoration-color: #0087ff\">Dropout</span>)             │ (<span style=\"color: #00d7ff; text-decoration-color: #00d7ff\">None</span>, <span style=\"color: #00af00; text-decoration-color: #00af00\">4</span>, <span style=\"color: #00af00; text-decoration-color: #00af00\">4</span>, <span style=\"color: #00af00; text-decoration-color: #00af00\">64</span>)       │             <span style=\"color: #00af00; text-decoration-color: #00af00\">0</span> │\n",
       "├─────────────────────────────────┼────────────────────────┼───────────────┤\n",
       "│ flatten_1 (<span style=\"color: #0087ff; text-decoration-color: #0087ff\">Flatten</span>)             │ (<span style=\"color: #00d7ff; text-decoration-color: #00d7ff\">None</span>, <span style=\"color: #00af00; text-decoration-color: #00af00\">1024</span>)           │             <span style=\"color: #00af00; text-decoration-color: #00af00\">0</span> │\n",
       "├─────────────────────────────────┼────────────────────────┼───────────────┤\n",
       "│ dense_2 (<span style=\"color: #0087ff; text-decoration-color: #0087ff\">Dense</span>)                 │ (<span style=\"color: #00d7ff; text-decoration-color: #00d7ff\">None</span>, <span style=\"color: #00af00; text-decoration-color: #00af00\">256</span>)            │       <span style=\"color: #00af00; text-decoration-color: #00af00\">262,400</span> │\n",
       "├─────────────────────────────────┼────────────────────────┼───────────────┤\n",
       "│ batch_normalization_6           │ (<span style=\"color: #00d7ff; text-decoration-color: #00d7ff\">None</span>, <span style=\"color: #00af00; text-decoration-color: #00af00\">256</span>)            │         <span style=\"color: #00af00; text-decoration-color: #00af00\">1,024</span> │\n",
       "│ (<span style=\"color: #0087ff; text-decoration-color: #0087ff\">BatchNormalization</span>)            │                        │               │\n",
       "├─────────────────────────────────┼────────────────────────┼───────────────┤\n",
       "│ dropout_6 (<span style=\"color: #0087ff; text-decoration-color: #0087ff\">Dropout</span>)             │ (<span style=\"color: #00d7ff; text-decoration-color: #00d7ff\">None</span>, <span style=\"color: #00af00; text-decoration-color: #00af00\">256</span>)            │             <span style=\"color: #00af00; text-decoration-color: #00af00\">0</span> │\n",
       "├─────────────────────────────────┼────────────────────────┼───────────────┤\n",
       "│ dense_3 (<span style=\"color: #0087ff; text-decoration-color: #0087ff\">Dense</span>)                 │ (<span style=\"color: #00d7ff; text-decoration-color: #00d7ff\">None</span>, <span style=\"color: #00af00; text-decoration-color: #00af00\">50</span>)             │        <span style=\"color: #00af00; text-decoration-color: #00af00\">12,850</span> │\n",
       "└─────────────────────────────────┴────────────────────────┴───────────────┘\n",
       "</pre>\n"
      ],
      "text/plain": [
       "┏━━━━━━━━━━━━━━━━━━━━━━━━━━━━━━━━━┳━━━━━━━━━━━━━━━━━━━━━━━━┳━━━━━━━━━━━━━━━┓\n",
       "┃\u001b[1m \u001b[0m\u001b[1mLayer (type)                   \u001b[0m\u001b[1m \u001b[0m┃\u001b[1m \u001b[0m\u001b[1mOutput Shape          \u001b[0m\u001b[1m \u001b[0m┃\u001b[1m \u001b[0m\u001b[1m      Param #\u001b[0m\u001b[1m \u001b[0m┃\n",
       "┡━━━━━━━━━━━━━━━━━━━━━━━━━━━━━━━━━╇━━━━━━━━━━━━━━━━━━━━━━━━╇━━━━━━━━━━━━━━━┩\n",
       "│ conv2d_6 (\u001b[38;5;33mConv2D\u001b[0m)               │ (\u001b[38;5;45mNone\u001b[0m, \u001b[38;5;34m26\u001b[0m, \u001b[38;5;34m26\u001b[0m, \u001b[38;5;34m32\u001b[0m)     │           \u001b[38;5;34m320\u001b[0m │\n",
       "├─────────────────────────────────┼────────────────────────┼───────────────┤\n",
       "│ batch_normalization_4           │ (\u001b[38;5;45mNone\u001b[0m, \u001b[38;5;34m26\u001b[0m, \u001b[38;5;34m26\u001b[0m, \u001b[38;5;34m32\u001b[0m)     │           \u001b[38;5;34m128\u001b[0m │\n",
       "│ (\u001b[38;5;33mBatchNormalization\u001b[0m)            │                        │               │\n",
       "├─────────────────────────────────┼────────────────────────┼───────────────┤\n",
       "│ conv2d_7 (\u001b[38;5;33mConv2D\u001b[0m)               │ (\u001b[38;5;45mNone\u001b[0m, \u001b[38;5;34m24\u001b[0m, \u001b[38;5;34m24\u001b[0m, \u001b[38;5;34m32\u001b[0m)     │         \u001b[38;5;34m9,248\u001b[0m │\n",
       "├─────────────────────────────────┼────────────────────────┼───────────────┤\n",
       "│ max_pooling2d_3 (\u001b[38;5;33mMaxPooling2D\u001b[0m)  │ (\u001b[38;5;45mNone\u001b[0m, \u001b[38;5;34m12\u001b[0m, \u001b[38;5;34m12\u001b[0m, \u001b[38;5;34m32\u001b[0m)     │             \u001b[38;5;34m0\u001b[0m │\n",
       "├─────────────────────────────────┼────────────────────────┼───────────────┤\n",
       "│ dropout_4 (\u001b[38;5;33mDropout\u001b[0m)             │ (\u001b[38;5;45mNone\u001b[0m, \u001b[38;5;34m12\u001b[0m, \u001b[38;5;34m12\u001b[0m, \u001b[38;5;34m32\u001b[0m)     │             \u001b[38;5;34m0\u001b[0m │\n",
       "├─────────────────────────────────┼────────────────────────┼───────────────┤\n",
       "│ conv2d_8 (\u001b[38;5;33mConv2D\u001b[0m)               │ (\u001b[38;5;45mNone\u001b[0m, \u001b[38;5;34m10\u001b[0m, \u001b[38;5;34m10\u001b[0m, \u001b[38;5;34m64\u001b[0m)     │        \u001b[38;5;34m18,496\u001b[0m │\n",
       "├─────────────────────────────────┼────────────────────────┼───────────────┤\n",
       "│ batch_normalization_5           │ (\u001b[38;5;45mNone\u001b[0m, \u001b[38;5;34m10\u001b[0m, \u001b[38;5;34m10\u001b[0m, \u001b[38;5;34m64\u001b[0m)     │           \u001b[38;5;34m256\u001b[0m │\n",
       "│ (\u001b[38;5;33mBatchNormalization\u001b[0m)            │                        │               │\n",
       "├─────────────────────────────────┼────────────────────────┼───────────────┤\n",
       "│ conv2d_9 (\u001b[38;5;33mConv2D\u001b[0m)               │ (\u001b[38;5;45mNone\u001b[0m, \u001b[38;5;34m8\u001b[0m, \u001b[38;5;34m8\u001b[0m, \u001b[38;5;34m64\u001b[0m)       │        \u001b[38;5;34m36,928\u001b[0m │\n",
       "├─────────────────────────────────┼────────────────────────┼───────────────┤\n",
       "│ max_pooling2d_4 (\u001b[38;5;33mMaxPooling2D\u001b[0m)  │ (\u001b[38;5;45mNone\u001b[0m, \u001b[38;5;34m4\u001b[0m, \u001b[38;5;34m4\u001b[0m, \u001b[38;5;34m64\u001b[0m)       │             \u001b[38;5;34m0\u001b[0m │\n",
       "├─────────────────────────────────┼────────────────────────┼───────────────┤\n",
       "│ dropout_5 (\u001b[38;5;33mDropout\u001b[0m)             │ (\u001b[38;5;45mNone\u001b[0m, \u001b[38;5;34m4\u001b[0m, \u001b[38;5;34m4\u001b[0m, \u001b[38;5;34m64\u001b[0m)       │             \u001b[38;5;34m0\u001b[0m │\n",
       "├─────────────────────────────────┼────────────────────────┼───────────────┤\n",
       "│ flatten_1 (\u001b[38;5;33mFlatten\u001b[0m)             │ (\u001b[38;5;45mNone\u001b[0m, \u001b[38;5;34m1024\u001b[0m)           │             \u001b[38;5;34m0\u001b[0m │\n",
       "├─────────────────────────────────┼────────────────────────┼───────────────┤\n",
       "│ dense_2 (\u001b[38;5;33mDense\u001b[0m)                 │ (\u001b[38;5;45mNone\u001b[0m, \u001b[38;5;34m256\u001b[0m)            │       \u001b[38;5;34m262,400\u001b[0m │\n",
       "├─────────────────────────────────┼────────────────────────┼───────────────┤\n",
       "│ batch_normalization_6           │ (\u001b[38;5;45mNone\u001b[0m, \u001b[38;5;34m256\u001b[0m)            │         \u001b[38;5;34m1,024\u001b[0m │\n",
       "│ (\u001b[38;5;33mBatchNormalization\u001b[0m)            │                        │               │\n",
       "├─────────────────────────────────┼────────────────────────┼───────────────┤\n",
       "│ dropout_6 (\u001b[38;5;33mDropout\u001b[0m)             │ (\u001b[38;5;45mNone\u001b[0m, \u001b[38;5;34m256\u001b[0m)            │             \u001b[38;5;34m0\u001b[0m │\n",
       "├─────────────────────────────────┼────────────────────────┼───────────────┤\n",
       "│ dense_3 (\u001b[38;5;33mDense\u001b[0m)                 │ (\u001b[38;5;45mNone\u001b[0m, \u001b[38;5;34m50\u001b[0m)             │        \u001b[38;5;34m12,850\u001b[0m │\n",
       "└─────────────────────────────────┴────────────────────────┴───────────────┘\n"
      ]
     },
     "metadata": {},
     "output_type": "display_data"
    },
    {
     "data": {
      "text/html": [
       "<pre style=\"white-space:pre;overflow-x:auto;line-height:normal;font-family:Menlo,'DejaVu Sans Mono',consolas,'Courier New',monospace\"><span style=\"font-weight: bold\"> Total params: </span><span style=\"color: #00af00; text-decoration-color: #00af00\">341,650</span> (1.30 MB)\n",
       "</pre>\n"
      ],
      "text/plain": [
       "\u001b[1m Total params: \u001b[0m\u001b[38;5;34m341,650\u001b[0m (1.30 MB)\n"
      ]
     },
     "metadata": {},
     "output_type": "display_data"
    },
    {
     "data": {
      "text/html": [
       "<pre style=\"white-space:pre;overflow-x:auto;line-height:normal;font-family:Menlo,'DejaVu Sans Mono',consolas,'Courier New',monospace\"><span style=\"font-weight: bold\"> Trainable params: </span><span style=\"color: #00af00; text-decoration-color: #00af00\">340,946</span> (1.30 MB)\n",
       "</pre>\n"
      ],
      "text/plain": [
       "\u001b[1m Trainable params: \u001b[0m\u001b[38;5;34m340,946\u001b[0m (1.30 MB)\n"
      ]
     },
     "metadata": {},
     "output_type": "display_data"
    },
    {
     "data": {
      "text/html": [
       "<pre style=\"white-space:pre;overflow-x:auto;line-height:normal;font-family:Menlo,'DejaVu Sans Mono',consolas,'Courier New',monospace\"><span style=\"font-weight: bold\"> Non-trainable params: </span><span style=\"color: #00af00; text-decoration-color: #00af00\">704</span> (2.75 KB)\n",
       "</pre>\n"
      ],
      "text/plain": [
       "\u001b[1m Non-trainable params: \u001b[0m\u001b[38;5;34m704\u001b[0m (2.75 KB)\n"
      ]
     },
     "metadata": {},
     "output_type": "display_data"
    }
   ],
   "source": [
    "model = build_model(NUM_CLASSES)\n",
    "model.summary()"
   ]
  },
  {
   "cell_type": "code",
   "execution_count": 22,
   "id": "deac43df-d1de-48b8-a3e8-7b6201f4b67e",
   "metadata": {},
   "outputs": [],
   "source": [
    "def train_model(model, X_train, y_train, X_val, y_val):\n",
    "    print(\"\\nTraining model...\")\n",
    "    \n",
    "    # Define callbacks\n",
    "    callbacks = [\n",
    "        ReduceLROnPlateau(factor=0.3, patience=3, min_lr=1e-6, verbose=1),\n",
    "        EarlyStopping(patience=5, restore_best_weights=True, verbose=1)\n",
    "    ]\n",
    "    \n",
    "    # Train the model\n",
    "    history = model.fit(\n",
    "        X_train, y_train,\n",
    "        validation_data=(X_val, y_val),\n",
    "        epochs=EPOCHS,\n",
    "        batch_size=BATCH_SIZE,\n",
    "        callbacks=callbacks,\n",
    "        verbose=1\n",
    "    )\n",
    "    \n",
    "    return history"
   ]
  },
  {
   "cell_type": "code",
   "execution_count": null,
   "id": "756053d2-3a2c-4d03-9d46-ec5bcff0f448",
   "metadata": {},
   "outputs": [
    {
     "name": "stdout",
     "output_type": "stream",
     "text": [
      "\n",
      "Training model...\n",
      "Epoch 1/20\n",
      "\u001b[1m 454/4688\u001b[0m \u001b[32m━\u001b[0m\u001b[37m━━━━━━━━━━━━━━━━━━━\u001b[0m \u001b[1m13:12\u001b[0m 187ms/step - accuracy: 0.3720 - loss: 2.5824"
     ]
    }
   ],
   "source": [
    "history = train_model(model, X_train, y_train, X_val, y_val)"
   ]
  },
  {
   "cell_type": "code",
   "execution_count": null,
   "id": "986beeb1-e66b-455d-a172-04c5ff3e67dd",
   "metadata": {},
   "outputs": [],
   "source": [
    "def plot_learning_curves(history):\n",
    "    plt.figure(figsize=(12, 4))\n",
    "    \n",
    "    # Plot accuracy\n",
    "    plt.subplot(1, 2, 1)\n",
    "    plt.plot(history.history['accuracy'], label='Train')\n",
    "    plt.plot(history.history['val_accuracy'], label='Validation')\n",
    "    plt.title('Model Accuracy')\n",
    "    plt.xlabel('Epoch')\n",
    "    plt.ylabel('Accuracy')\n",
    "    plt.legend()\n",
    "    \n",
    "    # Plot loss\n",
    "    plt.subplot(1, 2, 2)\n",
    "    plt.plot(history.history['loss'], label='Train')\n",
    "    plt.plot(history.history['val_loss'], label='Validation')\n",
    "    plt.title('Model Loss')\n",
    "    plt.xlabel('Epoch')\n",
    "    plt.ylabel('Loss')\n",
    "    plt.legend()\n",
    "    \n",
    "    plt.tight_layout()"
   ]
  },
  {
   "cell_type": "code",
   "execution_count": null,
   "id": "b8245ae6-1a49-4420-9ca9-ba32b15e10a8",
   "metadata": {},
   "outputs": [],
   "source": [
    "plot_learning_curves(history)"
   ]
  },
  {
   "cell_type": "code",
   "execution_count": null,
   "id": "cac93515-0ef9-4271-9afa-3abe8fee3030",
   "metadata": {},
   "outputs": [],
   "source": [
    "def evaluate_model(model, X_test, y_test, class_names):\n",
    "    print(\"\\nEvaluating model...\")\n",
    "    \n",
    "    # Evaluate on test set\n",
    "    test_loss, test_acc = model.evaluate(X_test, y_test, verbose=0)\n",
    "    print(f\"Test accuracy: {test_acc:.4f}\")\n",
    "    \n",
    "    # Generate predictions\n",
    "    y_pred = np.argmax(model.predict(X_test), axis=1)\n",
    "    \n",
    "    # Plot confusion matrix\n",
    "    plt.figure(figsize=(12, 12))\n",
    "    cm = confusion_matrix(y_test, y_pred)\n",
    "    \n",
    "    # Use abbreviated class names for better visualization\n",
    "    short_names = [name[:10] + \"...\" if len(name) > 10 else name for name in class_names]\n",
    "    \n",
    "    disp = ConfusionMatrixDisplay(confusion_matrix=cm, display_labels=short_names)\n",
    "    disp.plot(cmap=plt.cm.Blues, xticks_rotation=90)\n",
    "    plt.title(\"Confusion Matrix\")\n",
    "    plt.tight_layout()\n",
    "    \n",
    "    # Plot some example predictions\n",
    "    plt.figure(figsize=(12, 8))\n",
    "    for i in range(15):  # Show 15 examples\n",
    "        plt.subplot(3, 5, i + 1)\n",
    "        plt.imshow(X_test[i].reshape(28, 28), cmap='gray')\n",
    "        pred_idx = y_pred[i]\n",
    "        true_idx = y_test[i]\n",
    "        title = f\"True: {class_names[true_idx]}\\nPred: {class_names[pred_idx]}\"\n",
    "        plt.title(title, fontsize=8)\n",
    "        plt.axis('off')\n",
    "    plt.tight_layout()"
   ]
  },
  {
   "cell_type": "code",
   "execution_count": null,
   "id": "720d2196-5bca-46c1-9dd7-7f4a55ffdfb4",
   "metadata": {},
   "outputs": [],
   "source": [
    "evaluate_model(model, X_test, y_test, selected_classes)"
   ]
  },
  {
   "cell_type": "code",
   "execution_count": null,
   "id": "49b4f417-60ac-42d3-906f-aa9f614b027c",
   "metadata": {},
   "outputs": [],
   "source": [
    "def save_model(model):\n",
    "    model_path = MODEL_DIR / \"quick_draw_model.h5\"\n",
    "    model.save(model_path, save_format=\"h5\")\n",
    "    print(f\"\\nModel saved to {model_path}\")"
   ]
  },
  {
   "cell_type": "code",
   "execution_count": null,
   "id": "e1d0263d-966f-4761-8c96-4bbd05834444",
   "metadata": {},
   "outputs": [],
   "source": [
    "save_model(model)"
   ]
  }
 ],
 "metadata": {
  "kernelspec": {
   "display_name": "Python (projects)",
   "language": "python",
   "name": "projects"
  },
  "language_info": {
   "codemirror_mode": {
    "name": "ipython",
    "version": 3
   },
   "file_extension": ".py",
   "mimetype": "text/x-python",
   "name": "python",
   "nbconvert_exporter": "python",
   "pygments_lexer": "ipython3",
   "version": "3.9.21"
  }
 },
 "nbformat": 4,
 "nbformat_minor": 5
}
